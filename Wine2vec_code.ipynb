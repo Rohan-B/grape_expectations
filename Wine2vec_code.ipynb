{
 "cells": [
  {
   "cell_type": "code",
   "execution_count": 10,
   "metadata": {},
   "outputs": [],
   "source": [
    "from collections import Counter\n",
    "import numpy as np\n",
    "import nltk\n",
    "import re\n",
    "import sklearn.manifold\n",
    "import pandas as pd\n",
    "import gensim.models.word2vec as w2v"
   ]
  },
  {
   "cell_type": "code",
   "execution_count": 15,
   "metadata": {},
   "outputs": [],
   "source": [
    "data = pd.read_csv('datasets/wineColors.csv')"
   ]
  },
  {
   "cell_type": "code",
   "execution_count": 25,
   "metadata": {},
   "outputs": [],
   "source": [
    "descriptions = data['description']\n",
    "\n",
    "corpus = \"\"\n",
    "\n",
    "for desc in descriptions:\n",
    "    corpus += \" \" + desc"
   ]
  },
  {
   "cell_type": "code",
   "execution_count": 26,
   "metadata": {},
   "outputs": [],
   "source": [
    "#Use the NLTK tokenizer to break up the corpus into sentences\n",
    "tokenizer = nltk.data.load('tokenizers/punkt/english.pickle')\n",
    "raw_sentences = tokenizer.tokenize(corpus)\n"
   ]
  },
  {
   "cell_type": "code",
   "execution_count": 103,
   "metadata": {},
   "outputs": [],
   "source": [
    "def sent_to_words(sentence):\n",
    "    clean = re.sub(\"[^a-zA-Z]\",\" \", sentence)\n",
    "    words = clean.split()\n",
    "    return words"
   ]
  },
  {
   "cell_type": "code",
   "execution_count": 82,
   "metadata": {},
   "outputs": [],
   "source": [
    "cleaned_sentences = []\n",
    "\n",
    "for raw in raw_sentences:\n",
    "    cleaned_sentences.append(sent_to_words(raw))"
   ]
  },
  {
   "cell_type": "code",
   "execution_count": 83,
   "metadata": {},
   "outputs": [
    {
     "data": {
      "text/plain": [
       "2362855"
      ]
     },
     "execution_count": 83,
     "metadata": {},
     "output_type": "execute_result"
    }
   ],
   "source": [
    "token_count = sum([len(sentence) for sentence in cleaned_sentence])\n",
    "token_count"
   ]
  },
  {
   "cell_type": "code",
   "execution_count": 85,
   "metadata": {},
   "outputs": [],
   "source": [
    "#Hyperparameters for the word2vec model\n",
    "context_size = 5\n",
    "num_features = 100\n",
    "min_word_count = 5"
   ]
  },
  {
   "cell_type": "code",
   "execution_count": 86,
   "metadata": {},
   "outputs": [],
   "source": [
    "wine2vec = w2v.Word2Vec(\n",
    "    sg=1,\n",
    "    size=num_features,\n",
    "    min_count=min_word_count,\n",
    "    window=context_size,\n",
    ")\n"
   ]
  },
  {
   "cell_type": "code",
   "execution_count": 87,
   "metadata": {},
   "outputs": [],
   "source": [
    "wine2vec.build_vocab(cleaned_sentences)"
   ]
  },
  {
   "cell_type": "code",
   "execution_count": 88,
   "metadata": {},
   "outputs": [
    {
     "data": {
      "text/plain": [
       "(8502718, 11814275)"
      ]
     },
     "execution_count": 88,
     "metadata": {},
     "output_type": "execute_result"
    }
   ],
   "source": [
    "wine2vec.train(cleaned_sentences, total_examples=wine2vec.corpus_count, epochs=wine2vec.epochs)"
   ]
  },
  {
   "cell_type": "code",
   "execution_count": 91,
   "metadata": {},
   "outputs": [],
   "source": [
    "from gensim.test.utils import get_tmpfile\n",
    "path = get_tmpfile(\"wine2vec.model\")\n",
    "wine2vec.save(\"wine2vec.model\")\n"
   ]
  },
  {
   "cell_type": "code",
   "execution_count": 90,
   "metadata": {},
   "outputs": [
    {
     "data": {
      "text/plain": [
       "[('Tannins', 0.7540991306304932),\n",
       " ('tannin', 0.7201492786407471),\n",
       " ('grained', 0.666390061378479),\n",
       " ('firm', 0.659520149230957),\n",
       " ('tannic', 0.6561658382415771),\n",
       " ('framework', 0.6164436340332031),\n",
       " ('gripping', 0.6127274036407471),\n",
       " ('proportionate', 0.6055161952972412),\n",
       " ('clench', 0.6008082032203674),\n",
       " ('sugars', 0.5975766181945801)]"
      ]
     },
     "execution_count": 90,
     "metadata": {},
     "output_type": "execute_result"
    }
   ],
   "source": [
    "wine2vec.wv.most_similar(\"tannins\")"
   ]
  },
  {
   "cell_type": "code",
   "execution_count": 102,
   "metadata": {},
   "outputs": [
    {
     "data": {
      "text/plain": [
       "['Pineapple',\n",
       " 'rind',\n",
       " 'lemon',\n",
       " 'pith',\n",
       " 'and',\n",
       " 'orange',\n",
       " 'blossom',\n",
       " 'start',\n",
       " 'off',\n",
       " 'the',\n",
       " 'aromas']"
      ]
     },
     "execution_count": 102,
     "metadata": {},
     "output_type": "execute_result"
    }
   ],
   "source": [
    "sent_to_words(raw_sentences[0])"
   ]
  },
  {
   "cell_type": "code",
   "execution_count": null,
   "metadata": {},
   "outputs": [],
   "source": []
  }
 ],
 "metadata": {
  "kernelspec": {
   "display_name": "Python 3",
   "language": "python",
   "name": "python3"
  },
  "language_info": {
   "codemirror_mode": {
    "name": "ipython",
    "version": 3
   },
   "file_extension": ".py",
   "mimetype": "text/x-python",
   "name": "python",
   "nbconvert_exporter": "python",
   "pygments_lexer": "ipython3",
   "version": "3.6.7"
  }
 },
 "nbformat": 4,
 "nbformat_minor": 2
}
