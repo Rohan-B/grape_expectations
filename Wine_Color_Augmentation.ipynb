{
 "cells": [
  {
   "cell_type": "code",
   "execution_count": 45,
   "metadata": {},
   "outputs": [
    {
     "name": "stdout",
     "output_type": "stream",
     "text": [
      "(129971, 14)\n"
     ]
    }
   ],
   "source": [
    "import pandas as pd\n",
    "winesDf = pd.read_csv(\"wineData.csv\")\n",
    "untouchedWinesDf = pd.read_csv(\"wineData.csv\")\n",
    "print(winesDf.shape)"
   ]
  },
  {
   "cell_type": "code",
   "execution_count": 46,
   "metadata": {},
   "outputs": [
    {
     "name": "stdout",
     "output_type": "stream",
     "text": [
      "(68, 3)\n"
     ]
    }
   ],
   "source": [
    "grapesDf = pd.read_csv(\"grapes.csv\")\n",
    "print(grapesDf.shape)"
   ]
  },
  {
   "cell_type": "code",
   "execution_count": 47,
   "metadata": {},
   "outputs": [],
   "source": [
    "# data comes in with quotation marks; strip them\n",
    "grapesDf = grapesDf.replace(\"'\", \"\", regex=True)"
   ]
  },
  {
   "cell_type": "code",
   "execution_count": 48,
   "metadata": {},
   "outputs": [],
   "source": [
    "# create dictionary mappings of wine variety to color\n",
    "varieties = pd.Series(grapesDf.Color.values,index=grapesDf.Grape).to_dict()"
   ]
  },
  {
   "cell_type": "code",
   "execution_count": 49,
   "metadata": {},
   "outputs": [
    {
     "data": {
      "text/plain": [
       "(98319, 14)"
      ]
     },
     "execution_count": 49,
     "metadata": {},
     "output_type": "execute_result"
    }
   ],
   "source": [
    "# drop rows where the variety is not in grapes.csv\n",
    "winesDf = winesDf[winesDf[\"variety\"].isin(varieties)] \n",
    "winesDf.shape"
   ]
  },
  {
   "cell_type": "code",
   "execution_count": 50,
   "metadata": {},
   "outputs": [],
   "source": [
    "# create new Color column using our varities dictionary to map a wine to the color\n",
    "winesDf[\"color\"] = winesDf[\"variety\"].map(varieties)"
   ]
  },
  {
   "cell_type": "code",
   "execution_count": 51,
   "metadata": {},
   "outputs": [
    {
     "data": {
      "text/plain": [
       "(98280, 15)"
      ]
     },
     "execution_count": 51,
     "metadata": {},
     "output_type": "execute_result"
    }
   ],
   "source": [
    "winesDf.dropna(axis=0, subset=['country', 'variety'], inplace=True)\n",
    "#winesDf.to_csv(\"wineColors.csv\")\n",
    "winesDf.shape"
   ]
  },
  {
   "cell_type": "code",
   "execution_count": 52,
   "metadata": {},
   "outputs": [
    {
     "data": {
      "text/plain": [
       "Red      65342\n",
       "White    32938\n",
       "Name: color, dtype: int64"
      ]
     },
     "execution_count": 52,
     "metadata": {},
     "output_type": "execute_result"
    }
   ],
   "source": [
    "winesDf.color.value_counts()"
   ]
  }
 ],
 "metadata": {
  "kernelspec": {
   "display_name": "Python 3",
   "language": "python",
   "name": "python3"
  },
  "language_info": {
   "codemirror_mode": {
    "name": "ipython",
    "version": 3
   },
   "file_extension": ".py",
   "mimetype": "text/x-python",
   "name": "python",
   "nbconvert_exporter": "python",
   "pygments_lexer": "ipython3",
   "version": "3.6.5"
  }
 },
 "nbformat": 4,
 "nbformat_minor": 2
}
